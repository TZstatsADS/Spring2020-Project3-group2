{
 "cells": [
  {
   "cell_type": "code",
   "execution_count": 3,
   "metadata": {
    "scrolled": true
   },
   "outputs": [],
   "source": [
    "import pandas as pd\n",
    "import numpy as np\n",
    "import matplotlib.pyplot as plt\n",
    "import xgboost as xgb\n",
    "from sklearn.model_selection import train_test_split\n",
    "%run load.py"
   ]
  },
  {
   "cell_type": "code",
   "execution_count": 32,
   "metadata": {
    "scrolled": true
   },
   "outputs": [
    {
     "name": "stdout",
     "output_type": "stream",
     "text": [
      "--- 9.421393871307373 seconds ---\n"
     ]
    }
   ],
   "source": [
    "path = 'C:/Users/jiaoh/Documents/GitHub/Spring2020-Project3-group2/hanbojiao_test/data/train_set/'\n",
    "data=load.load_data(path+ \"label.csv\")\n",
    "\n",
    "points_path= 'C:/Users/jiaoh/Documents/GitHub/Spring2020-Project3-group2/hanbojiao_test/data/train_set/points/'\n",
    "X=load.load_points(points_path,data)\n",
    "y=data[\"emotion_idx\"].to_numpy()\n"
   ]
  },
  {
   "cell_type": "code",
   "execution_count": 41,
   "metadata": {},
   "outputs": [],
   "source": [
    "from sklearn.model_selection import train_test_split as tts\n",
    "train_x_point,test_x_point,train_y_point,test_y_point=tts(X,y,test_size=0.2,random_state=3662)"
   ]
  },
  {
   "cell_type": "code",
   "execution_count": 107,
   "metadata": {},
   "outputs": [
    {
     "name": "stdout",
     "output_type": "stream",
     "text": [
      "---291.4707381725311 seconds ----\n"
     ]
    }
   ],
   "source": [
    "from sklearn.ensemble import GradientBoostingClassifier as gbc\n",
    "start_time = time.time()\n",
    "gbm_base_point= gbc(n_estimators=22, max_depth=2).fit(train_x_point,train_y_point)\n",
    "print(\"---%s seconds ----\" % (time.time()-start_time))"
   ]
  },
  {
   "cell_type": "code",
   "execution_count": 108,
   "metadata": {
    "scrolled": false
   },
   "outputs": [
    {
     "name": "stdout",
     "output_type": "stream",
     "text": [
      "              precision    recall  f1-score   support\n",
      "\n",
      "           1       0.58      0.58      0.58        24\n",
      "           2       0.80      0.67      0.73        24\n",
      "           3       0.35      0.50      0.41        28\n",
      "           4       0.23      0.29      0.26        17\n",
      "           5       0.55      0.44      0.49        25\n",
      "           6       0.33      0.35      0.34        20\n",
      "           7       0.53      0.31      0.39        26\n",
      "           8       0.60      0.82      0.69        22\n",
      "           9       0.45      0.47      0.46        19\n",
      "          10       0.42      0.16      0.23        31\n",
      "          11       0.36      0.41      0.38        22\n",
      "          12       0.24      0.19      0.21        21\n",
      "          13       0.11      0.04      0.06        26\n",
      "          14       0.48      0.63      0.55        19\n",
      "          15       0.28      0.64      0.39        11\n",
      "          16       0.61      0.58      0.60        24\n",
      "          17       0.38      0.43      0.41        30\n",
      "          18       0.29      0.22      0.25        23\n",
      "          19       0.11      0.24      0.15        17\n",
      "          20       0.15      0.18      0.16        22\n",
      "          21       0.21      0.26      0.23        23\n",
      "          22       0.30      0.12      0.17        26\n",
      "\n",
      "    accuracy                           0.38       500\n",
      "   macro avg       0.38      0.39      0.37       500\n",
      "weighted avg       0.39      0.38      0.37       500\n",
      "\n"
     ]
    }
   ],
   "source": [
    "from sklearn.metrics import classification_report as cr\n",
    "baseline_pred_point=gbm_base_point.predict(test_x_point)\n",
    "baseline_acc_point=gbm_base_point.score(test_x_point,test_y_point)\n",
    "print(cr(test_y_point,baseline_pred_point))"
   ]
  },
  {
   "cell_type": "code",
   "execution_count": 82,
   "metadata": {},
   "outputs": [],
   "source": [
    "data_unsplit = pd.read_csv(path + \"data_unsplit.csv\")\n",
    "X_dis=data_unsplit.iloc[:,1:-1]\n",
    "y_dis=data_unsplit[\"emotion_idx\"]\n",
    "train_x_dis,test_x_dis,train_y_dis,test_y_dis=tts(X_dis,y_dis,test_size=0.2,random_state=3662)"
   ]
  },
  {
   "cell_type": "code",
   "execution_count": 109,
   "metadata": {},
   "outputs": [
    {
     "name": "stdout",
     "output_type": "stream",
     "text": [
      "---36.442384243011475 seconds ----\n"
     ]
    }
   ],
   "source": [
    "start_time = time.time()\n",
    "gbm_base_distance= gbc(n_estimators=22, max_depth=1).fit(train_x_dis,train_y_dis)\n",
    "print(\"---%s seconds ----\" % (time.time()-start_time))"
   ]
  },
  {
   "cell_type": "code",
   "execution_count": 110,
   "metadata": {},
   "outputs": [
    {
     "name": "stdout",
     "output_type": "stream",
     "text": [
      "              precision    recall  f1-score   support\n",
      "\n",
      "           1       0.21      0.21      0.21        24\n",
      "           2       0.61      0.46      0.52        24\n",
      "           3       0.22      0.39      0.28        28\n",
      "           4       0.17      0.29      0.22        17\n",
      "           5       0.44      0.28      0.34        25\n",
      "           6       0.35      0.40      0.37        20\n",
      "           7       0.50      0.27      0.35        26\n",
      "           8       0.53      0.82      0.64        22\n",
      "           9       0.43      0.32      0.36        19\n",
      "          10       0.50      0.23      0.31        31\n",
      "          11       0.45      0.41      0.43        22\n",
      "          12       0.20      0.14      0.17        21\n",
      "          13       0.08      0.04      0.05        26\n",
      "          14       0.23      0.47      0.31        19\n",
      "          15       0.10      0.18      0.13        11\n",
      "          16       0.60      0.38      0.46        24\n",
      "          17       0.26      0.43      0.33        30\n",
      "          18       0.24      0.17      0.20        23\n",
      "          19       0.19      0.29      0.23        17\n",
      "          20       0.15      0.14      0.14        22\n",
      "          21       0.17      0.13      0.15        23\n",
      "          22       0.20      0.08      0.11        26\n",
      "\n",
      "    accuracy                           0.30       500\n",
      "   macro avg       0.31      0.30      0.29       500\n",
      "weighted avg       0.32      0.30      0.29       500\n",
      "\n"
     ]
    }
   ],
   "source": [
    "baseline_pred_dis=gbm_base_distance.predict(test_x_dis)\n",
    "baseline_acc_dis=gbm_base_distance.score(test_x_dis,test_y_dis)\n",
    "print(cr(test_y_dis,baseline_pred_dis))"
   ]
  },
  {
   "cell_type": "code",
   "execution_count": null,
   "metadata": {},
   "outputs": [],
   "source": []
  }
 ],
 "metadata": {
  "kernelspec": {
   "display_name": "Python 3",
   "language": "python",
   "name": "python3"
  },
  "language_info": {
   "codemirror_mode": {
    "name": "ipython",
    "version": 3
   },
   "file_extension": ".py",
   "mimetype": "text/x-python",
   "name": "python",
   "nbconvert_exporter": "python",
   "pygments_lexer": "ipython3",
   "version": "3.7.4"
  }
 },
 "nbformat": 4,
 "nbformat_minor": 2
}
