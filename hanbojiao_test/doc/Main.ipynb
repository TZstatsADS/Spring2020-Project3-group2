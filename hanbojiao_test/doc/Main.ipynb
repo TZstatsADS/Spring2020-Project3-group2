{
 "cells": [
  {
   "cell_type": "code",
   "execution_count": null,
   "metadata": {},
   "outputs": [],
   "source": [
    "conda install tensorflow"
   ]
  },
  {
   "cell_type": "code",
   "execution_count": null,
   "metadata": {},
   "outputs": [],
   "source": [
    "conda install keras"
   ]
  },
  {
   "cell_type": "code",
   "execution_count": 31,
   "metadata": {
    "scrolled": false
   },
   "outputs": [],
   "source": [
    "import pandas as pd\n",
    "import numpy as np\n",
    "import time\n",
    "from sklearn.model_selection import train_test_split\n",
    "from sklearn.metrics import classification_report as cr\n",
    "from sklearn.model_selection import cross_val_score\n",
    "from sklearn.model_selection import KFold\n",
    "from sklearn.externals import joblib\n",
    "from sklearn.ensemble import VotingClassifier\n",
    "from sklearn.ensemble import GradientBoostingClassifier\n",
    "from sklearn.linear_model import LogisticRegression\n",
    "from sklearn.svm import SVC\n",
    "import xgboost\n",
    "from sklearn.neural_network import MLPClassifier\n",
    "from sklearn.ensemble import RandomForestClassifier"
   ]
  },
  {
   "cell_type": "markdown",
   "metadata": {},
   "source": [
    "### Load dataset and split them into train and test set"
   ]
  },
  {
   "cell_type": "code",
   "execution_count": 2,
   "metadata": {},
   "outputs": [],
   "source": [
    "path = 'C:/Users/jiaoh/Documents/GitHub/Spring2020-Project3-group2/hanbojiao_test/output/'\n",
    "data_unsplit = pd.read_csv(path + \"data_unsplit.csv\")\n",
    "X_dis=data_unsplit.iloc[:,1:-1]\n",
    "y_dis=data_unsplit[\"emotion_idx\"]\n",
    "\n",
    "from sklearn.preprocessing import StandardScaler\n",
    "scaler = StandardScaler()\n",
    "X_dis = scaler.fit_transform(X_dis)\n",
    "\n",
    "train_x_dis,test_x_dis,train_y_dis,test_y_dis=train_test_split(X_dis,y_dis,test_size=0.2,random_state=3662)"
   ]
  },
  {
   "cell_type": "markdown",
   "metadata": {},
   "source": [
    "# Baseline model GBM (41.92%)"
   ]
  },
  {
   "cell_type": "code",
   "execution_count": 3,
   "metadata": {},
   "outputs": [],
   "source": [
    "gbm_baseline= GradientBoostingClassifier(n_estimators=100  , max_depth= 1,learning_rate=0.1)"
   ]
  },
  {
   "cell_type": "code",
   "execution_count": 16,
   "metadata": {},
   "outputs": [
    {
     "name": "stdout",
     "output_type": "stream",
     "text": [
      "Model fit time: 605.159s; Training Accuracy: 82.9% 0.116s, Testing Accuracy 37.4% 0.025s\n"
     ]
    }
   ],
   "source": [
    "model=gbm_baseline\n",
    "t0 = time.time()\n",
    "model.fit(train_x_dis,train_y_dis)\n",
    "t1 = time.time() \n",
    "training_acc=model.score(train_x_dis,train_y_dis)\n",
    "t2 = time.time() \n",
    "testing_acc=model.score(test_x_dis,test_y_dis)\n",
    "t3 = time.time() \n",
    "print(\"Model fit time: %0.3fs; Training Accuracy : %0.1f%% %0.3fs, Testing Accuracy %0.1f%% %0.3fs\" % (t1-t0,training_acc*100,t2-t1,testing_acc*100,t3-t2))"
   ]
  },
  {
   "cell_type": "markdown",
   "metadata": {},
   "source": [
    "# Advanced model Improved GBM (43.32%)"
   ]
  },
  {
   "cell_type": "code",
   "execution_count": 17,
   "metadata": {},
   "outputs": [],
   "source": [
    "gbm_improved= GradientBoostingClassifier(n_estimators=100  , max_depth= 2,learning_rate=0.1)"
   ]
  },
  {
   "cell_type": "code",
   "execution_count": 19,
   "metadata": {},
   "outputs": [
    {
     "name": "stdout",
     "output_type": "stream",
     "text": [
      "Model fit time: 1390.478s; Training Accuracy: 99.5% 0.213s, Testing Accuracy 41.6% 0.048s\n"
     ]
    }
   ],
   "source": [
    "model=gbm_improved\n",
    "t0 = time.time()\n",
    "model.fit(train_x_dis,train_y_dis)\n",
    "t1 = time.time() \n",
    "training_acc=model.score(train_x_dis,train_y_dis)\n",
    "t2 = time.time() \n",
    "testing_acc=model.score(test_x_dis,test_y_dis)\n",
    "t3 = time.time() \n",
    "print(\"Model fit time: %0.3fs; Training Accuracy: %0.1f%% %0.3fs, Testing Accuracy %0.1f%% %0.3fs\" % (t1-t0,training_acc*100,t2-t1,testing_acc*100,t3-t2))"
   ]
  },
  {
   "cell_type": "markdown",
   "metadata": {},
   "source": [
    "# Advanced model XGboost(47.12%)"
   ]
  },
  {
   "cell_type": "code",
   "execution_count": 22,
   "metadata": {},
   "outputs": [],
   "source": [
    "xgboost_model_final =xgboost.XGBClassifier(max_depth=4,n_estimators=50,learning_rate=0.1,\n",
    "                       min_child_weight=1,gamma=0,subsample=0.8,colsample_bytree=0.8,reg_alpha=0.005)"
   ]
  },
  {
   "cell_type": "code",
   "execution_count": 23,
   "metadata": {},
   "outputs": [
    {
     "name": "stdout",
     "output_type": "stream",
     "text": [
      "Model fit time: 83.443s; Training Accuracy: 100.0% 0.575s, Testing Accuracy 45.8% 0.180s\n"
     ]
    }
   ],
   "source": [
    "model=xgboost_model_final\n",
    "t0 = time.time()\n",
    "model.fit(train_x_dis,train_y_dis)\n",
    "t1 = time.time() \n",
    "training_acc=model.score(train_x_dis,train_y_dis)\n",
    "t2 = time.time() \n",
    "testing_acc=model.score(test_x_dis,test_y_dis)\n",
    "t3 = time.time() \n",
    "print(\"Model fit time: %0.3fs; Training Accuracy: %0.1f%% %0.3fs, Testing Accuracy %0.1f%% %0.3fs\" % (t1-t0,training_acc*100,t2-t1,testing_acc*100,t3-t2))"
   ]
  },
  {
   "cell_type": "markdown",
   "metadata": {},
   "source": [
    "# Advanced model RandomForestClassifier (45.48%)"
   ]
  },
  {
   "cell_type": "code",
   "execution_count": 32,
   "metadata": {},
   "outputs": [],
   "source": [
    "randomforest_model_final=RandomForestClassifier(n_estimators = 100, criterion = 'gini', \n",
    "                             random_state = 42, min_samples_leaf=1, max_features='sqrt')"
   ]
  },
  {
   "cell_type": "code",
   "execution_count": 33,
   "metadata": {},
   "outputs": [
    {
     "name": "stdout",
     "output_type": "stream",
     "text": [
      "Model fit time: 21.873s; Training Accuracy: 100.0% 0.407s, Testing Accuracy 41.6% 0.135s\n"
     ]
    }
   ],
   "source": [
    "model=randomforest_model_final\n",
    "t0 = time.time()\n",
    "model.fit(train_x_dis,train_y_dis)\n",
    "t1 = time.time() \n",
    "training_acc=model.score(train_x_dis,train_y_dis)\n",
    "t2 = time.time() \n",
    "testing_acc=model.score(test_x_dis,test_y_dis)\n",
    "t3 = time.time() \n",
    "print(\"Model fit time: %0.3fs; Training Accuracy: %0.1f%% %0.3fs, Testing Accuracy %0.1f%% %0.3fs\" % (t1-t0,training_acc*100,t2-t1,testing_acc*100,t3-t2))"
   ]
  },
  {
   "cell_type": "markdown",
   "metadata": {},
   "source": [
    "# Advanced model LogisticRegression (54.00%)"
   ]
  },
  {
   "cell_type": "code",
   "execution_count": 24,
   "metadata": {},
   "outputs": [],
   "source": [
    "logistic_model_final =LogisticRegression(C=0.01,\n",
    "                                         dual=False,\n",
    "                                         fit_intercept=True,\n",
    "                                         intercept_scaling=1,\n",
    "                                         max_iter=300,\n",
    "                                         multi_class='multinomial',\n",
    "                                         penalty='l2',\n",
    "                                         solver='newton-cg',\n",
    "                                         tol=0.0001)"
   ]
  },
  {
   "cell_type": "code",
   "execution_count": 25,
   "metadata": {},
   "outputs": [
    {
     "name": "stdout",
     "output_type": "stream",
     "text": [
      "Model fit time: 37.726s; Training Accuracy: 93.2% 0.025s, Testing Accuracy 51.8% 0.007s\n"
     ]
    }
   ],
   "source": [
    "model=logistic_model_final\n",
    "t0 = time.time()\n",
    "model.fit(train_x_dis,train_y_dis)\n",
    "t1 = time.time() \n",
    "training_acc=model.score(train_x_dis,train_y_dis)\n",
    "t2 = time.time() \n",
    "testing_acc=model.score(test_x_dis,test_y_dis)\n",
    "t3 = time.time() \n",
    "print(\"Model fit time: %0.3fs; Training Accuracy: %0.1f%% %0.3fs, Testing Accuracy %0.1f%% %0.3fs\" % (t1-t0,training_acc*100,t2-t1,testing_acc*100,t3-t2))"
   ]
  },
  {
   "cell_type": "markdown",
   "metadata": {},
   "source": [
    "# Advanced model SVM (50.04%)"
   ]
  },
  {
   "cell_type": "code",
   "execution_count": 26,
   "metadata": {},
   "outputs": [],
   "source": [
    "svm_model_final =SVC(C=0.1,decision_function_shape='ovr',degree=2,gamma=0.1,kernel='linear')"
   ]
  },
  {
   "cell_type": "code",
   "execution_count": 27,
   "metadata": {},
   "outputs": [
    {
     "name": "stdout",
     "output_type": "stream",
     "text": [
      "Model fit time: 21.840s; Training Accuracy: 100.0% 60.709s, Testing Accuracy 47.4% 15.290s\n"
     ]
    }
   ],
   "source": [
    "model=svm_model_final\n",
    "t0 = time.time()\n",
    "model.fit(train_x_dis,train_y_dis)\n",
    "t1 = time.time() \n",
    "training_acc=model.score(train_x_dis,train_y_dis)\n",
    "t2 = time.time() \n",
    "testing_acc=model.score(test_x_dis,test_y_dis)\n",
    "t3 = time.time() \n",
    "print(\"Model fit time: %0.3fs; Training Accuracy: %0.1f%% %0.3fs, Testing Accuracy %0.1f%% %0.3fs\" % (t1-t0,training_acc*100,t2-t1,testing_acc*100,t3-t2))"
   ]
  },
  {
   "cell_type": "markdown",
   "metadata": {},
   "source": [
    "# Advanced model Neural Network-MLPClassifier (49.44%)"
   ]
  },
  {
   "cell_type": "code",
   "execution_count": 28,
   "metadata": {},
   "outputs": [],
   "source": [
    "MLP_model_final =MLPClassifier(early_stopping=True,\n",
    "                              hidden_layer_sizes=(3000,),\n",
    "                              learning_rate='adaptive',\n",
    "                              solver='lbfgs',\n",
    "                              validation_fraction=0.2)"
   ]
  },
  {
   "cell_type": "code",
   "execution_count": 29,
   "metadata": {},
   "outputs": [
    {
     "name": "stdout",
     "output_type": "stream",
     "text": [
      "Model fit time: 184.940s; Training Accuracy: 100.0% 0.477s, Testing Accuracy 49.2% 0.145s\n"
     ]
    }
   ],
   "source": [
    "model=MLP_model_final\n",
    "t0 = time.time()\n",
    "model.fit(train_x_dis,train_y_dis)\n",
    "t1 = time.time() \n",
    "training_acc=model.score(train_x_dis,train_y_dis)\n",
    "t2 = time.time() \n",
    "testing_acc=model.score(test_x_dis,test_y_dis)\n",
    "t3 = time.time() \n",
    "print(\"Model fit time: %0.3fs; Training Accuracy: %0.1f%% %0.3fs, Testing Accuracy %0.1f%% %0.3fs\" % (t1-t0,training_acc*100,t2-t1,testing_acc*100,t3-t2))"
   ]
  },
  {
   "cell_type": "markdown",
   "metadata": {},
   "source": [
    "# Advanced model VotingClassifier"
   ]
  },
  {
   "cell_type": "code",
   "execution_count": 34,
   "metadata": {},
   "outputs": [],
   "source": [
    "voting_clf = VotingClassifier(\n",
    "    estimators=[('gbm_clf',gbm_improved),\n",
    "                ('log_clf', logistic_model_final),\n",
    "                ('svm_clf', svm_model_final),\n",
    "                ('xgb_clf', xgboost_model_final),\n",
    "                ('MLP_clf',MLP_model_final)],\n",
    "    voting='hard',\n",
    "    weights=[1,1,1,1,1],\n",
    "    n_jobs=8\n",
    ")"
   ]
  },
  {
   "cell_type": "code",
   "execution_count": 35,
   "metadata": {},
   "outputs": [
    {
     "name": "stdout",
     "output_type": "stream",
     "text": [
      "Model fit time: 1266.666s; Training Accuracy: 100.0% 23.856s, Testing Accuracy 51.4% 6.242s\n"
     ]
    }
   ],
   "source": [
    "model=voting_clf\n",
    "t0 = time.time()\n",
    "model.fit(train_x_dis,train_y_dis)\n",
    "t1 = time.time() \n",
    "training_acc=model.score(train_x_dis,train_y_dis)\n",
    "t2 = time.time() \n",
    "testing_acc=model.score(test_x_dis,test_y_dis)\n",
    "t3 = time.time() \n",
    "print(\"Model fit time: %0.3fs; Training Accuracy: %0.1f%% %0.3fs, Testing Accuracy %0.1f%% %0.3fs\" % (t1-t0,training_acc*100,t2-t1,testing_acc*100,t3-t2))"
   ]
  },
  {
   "cell_type": "markdown",
   "metadata": {},
   "source": [
    "# Advanced Model: Neural Network"
   ]
  },
  {
   "cell_type": "code",
   "execution_count": null,
   "metadata": {},
   "outputs": [],
   "source": []
  }
 ],
 "metadata": {
  "kernelspec": {
   "display_name": "Python 3",
   "language": "python",
   "name": "python3"
  },
  "language_info": {
   "codemirror_mode": {
    "name": "ipython",
    "version": 3
   },
   "file_extension": ".py",
   "mimetype": "text/x-python",
   "name": "python",
   "nbconvert_exporter": "python",
   "pygments_lexer": "ipython3",
   "version": "3.7.4"
  }
 },
 "nbformat": 4,
 "nbformat_minor": 2
}
